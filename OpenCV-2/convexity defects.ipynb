{
 "cells": [
  {
   "cell_type": "code",
   "execution_count": 52,
   "id": "7e1310ee",
   "metadata": {},
   "outputs": [],
   "source": [
    "import cv2\n",
    "import numpy as np"
   ]
  },
  {
   "cell_type": "code",
   "execution_count": 53,
   "id": "b4dd0b62",
   "metadata": {},
   "outputs": [],
   "source": [
    "img = cv2.imread(\"star.png\")"
   ]
  },
  {
   "cell_type": "code",
   "execution_count": 54,
   "id": "2000ed03",
   "metadata": {},
   "outputs": [],
   "source": [
    "gray = cv2.cvtColor(img,cv2.COLOR_BGR2GRAY)"
   ]
  },
  {
   "cell_type": "code",
   "execution_count": 55,
   "id": "e483e3fd",
   "metadata": {},
   "outputs": [],
   "source": [
    "#blur = cv2.blur(gray,(3,3))"
   ]
  },
  {
   "cell_type": "code",
   "execution_count": 71,
   "id": "257c06a6",
   "metadata": {},
   "outputs": [],
   "source": [
    "ret,thres = cv2.threshold(gray,127,255,0)"
   ]
  },
  {
   "cell_type": "code",
   "execution_count": 72,
   "id": "17002212",
   "metadata": {},
   "outputs": [],
   "source": [
    "contours,_ = cv2.findContours(thres,2,1)"
   ]
  },
  {
   "cell_type": "code",
   "execution_count": 73,
   "id": "a104c30d",
   "metadata": {},
   "outputs": [],
   "source": [
    "cnt = contours[0]"
   ]
  },
  {
   "cell_type": "code",
   "execution_count": 74,
   "id": "ca95ac83",
   "metadata": {},
   "outputs": [],
   "source": [
    "hull = cv2.convexHull(cnt,returnPoints = False)"
   ]
  },
  {
   "cell_type": "code",
   "execution_count": 75,
   "id": "8447db24",
   "metadata": {},
   "outputs": [],
   "source": [
    "defects = cv2.convexityDefects(cnt,hull)"
   ]
  },
  {
   "cell_type": "code",
   "execution_count": 77,
   "id": "fb822346",
   "metadata": {},
   "outputs": [],
   "source": [
    "for i in range(defects.shape[0]):\n",
    "    s,e,f,d = defects[i,0]\n",
    "    start = tuple(cnt[s][0])\n",
    "    end = tuple(cnt[e][0])\n",
    "    far = tuple(cnt[f][0])\n",
    "    cv2.line(img,start,end,[0,255,0],2)\n",
    "    cv2.circle(img,far,5,[0,255,0],-1)\n",
    "    "
   ]
  },
  {
   "cell_type": "code",
   "execution_count": 79,
   "id": "a6855531",
   "metadata": {},
   "outputs": [],
   "source": [
    "cv2.imshow(\"img\",img)\n",
    "cv2.waitKey(0)\n",
    "cv2.destroyAllWindows()"
   ]
  },
  {
   "cell_type": "code",
   "execution_count": null,
   "id": "e9c3bb54",
   "metadata": {},
   "outputs": [],
   "source": []
  }
 ],
 "metadata": {
  "kernelspec": {
   "display_name": "Python 3 (ipykernel)",
   "language": "python",
   "name": "python3"
  },
  "language_info": {
   "codemirror_mode": {
    "name": "ipython",
    "version": 3
   },
   "file_extension": ".py",
   "mimetype": "text/x-python",
   "name": "python",
   "nbconvert_exporter": "python",
   "pygments_lexer": "ipython3",
   "version": "3.9.18"
  }
 },
 "nbformat": 4,
 "nbformat_minor": 5
}
