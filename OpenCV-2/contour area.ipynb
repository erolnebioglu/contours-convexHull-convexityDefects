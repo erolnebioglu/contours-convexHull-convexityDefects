{
 "cells": [
  {
   "cell_type": "code",
   "execution_count": 1,
   "id": "8ee3b5fe",
   "metadata": {},
   "outputs": [],
   "source": [
    "import cv2"
   ]
  },
  {
   "cell_type": "code",
   "execution_count": 2,
   "id": "e685ac75",
   "metadata": {},
   "outputs": [],
   "source": [
    "import numpy as np"
   ]
  },
  {
   "cell_type": "code",
   "execution_count": 3,
   "id": "ba39b48e",
   "metadata": {},
   "outputs": [],
   "source": [
    "img = cv2.imread(\"contour.png\")"
   ]
  },
  {
   "cell_type": "code",
   "execution_count": 4,
   "id": "24a17d1a",
   "metadata": {},
   "outputs": [],
   "source": [
    "gray = cv2.cvtColor(img,cv2.COLOR_BGR2GRAY)"
   ]
  },
  {
   "cell_type": "code",
   "execution_count": 6,
   "id": "2ac9fbd7",
   "metadata": {},
   "outputs": [],
   "source": [
    "ret,thresh = cv2.threshold(gray,127,255,cv2.THRESH_BINARY)"
   ]
  },
  {
   "cell_type": "code",
   "execution_count": 23,
   "id": "47bc507d",
   "metadata": {},
   "outputs": [],
   "source": [
    "contours,ret = cv2.findContours(thresh,cv2.RETR_TREE,cv2.CHAIN_APPROX_SIMPLE)"
   ]
  },
  {
   "cell_type": "code",
   "execution_count": 27,
   "id": "1b93ed51",
   "metadata": {},
   "outputs": [],
   "source": [
    "cnt = contours[0]\n",
    "\n",
    "area = cv2.contourArea(cnt)\n",
    "M = cv2.moments(cnt)\n",
    "\n",
    "perimeter = cv2.arcLength(cnt,True)\n"
   ]
  },
  {
   "cell_type": "code",
   "execution_count": 28,
   "id": "e8237e91",
   "metadata": {},
   "outputs": [
    {
     "data": {
      "text/plain": [
       "89744.0"
      ]
     },
     "execution_count": 28,
     "metadata": {},
     "output_type": "execute_result"
    }
   ],
   "source": [
    "area"
   ]
  },
  {
   "cell_type": "code",
   "execution_count": 29,
   "id": "469d721f",
   "metadata": {},
   "outputs": [
    {
     "data": {
      "text/plain": [
       "1200.0"
      ]
     },
     "execution_count": 29,
     "metadata": {},
     "output_type": "execute_result"
    }
   ],
   "source": [
    "perimeter"
   ]
  },
  {
   "cell_type": "code",
   "execution_count": 7,
   "id": "e5442624",
   "metadata": {},
   "outputs": [],
   "source": [
    "cv2.imshow(\"img\",img)\n",
    "cv2.imshow(\"gray\",gray)\n",
    "cv2.imshow(\"thres\",thresh)\n",
    "cv2.waitKey(0)\n",
    "cv2.destroyAllWindows()"
   ]
  },
  {
   "cell_type": "code",
   "execution_count": null,
   "id": "ce8e96b8",
   "metadata": {},
   "outputs": [],
   "source": []
  }
 ],
 "metadata": {
  "kernelspec": {
   "display_name": "Python 3 (ipykernel)",
   "language": "python",
   "name": "python3"
  },
  "language_info": {
   "codemirror_mode": {
    "name": "ipython",
    "version": 3
   },
   "file_extension": ".py",
   "mimetype": "text/x-python",
   "name": "python",
   "nbconvert_exporter": "python",
   "pygments_lexer": "ipython3",
   "version": "3.9.18"
  }
 },
 "nbformat": 4,
 "nbformat_minor": 5
}
