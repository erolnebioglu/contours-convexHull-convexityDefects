{
 "cells": [
  {
   "cell_type": "code",
   "execution_count": 1,
   "id": "bac5320a",
   "metadata": {},
   "outputs": [],
   "source": [
    "import cv2\n",
    "import numpy as np"
   ]
  },
  {
   "cell_type": "code",
   "execution_count": 2,
   "id": "05f99aad",
   "metadata": {},
   "outputs": [],
   "source": [
    "img = cv2.imread(\"map.jpg\")"
   ]
  },
  {
   "cell_type": "code",
   "execution_count": 3,
   "id": "60383ae1",
   "metadata": {},
   "outputs": [],
   "source": [
    "gray = cv2.cvtColor(img,cv2.COLOR_BGR2GRAY)"
   ]
  },
  {
   "cell_type": "code",
   "execution_count": 4,
   "id": "fdefe374",
   "metadata": {},
   "outputs": [],
   "source": [
    "blur = cv2.blur(gray,(3,3))"
   ]
  },
  {
   "cell_type": "code",
   "execution_count": 11,
   "id": "78efcbf1",
   "metadata": {},
   "outputs": [],
   "source": [
    "ret,thres = cv2.threshold(blur,30,255,cv2.THRESH_BINARY)"
   ]
  },
  {
   "cell_type": "code",
   "execution_count": 20,
   "id": "34940f13",
   "metadata": {},
   "outputs": [],
   "source": [
    "contours,hierarchy = cv2.findContours(thres,cv2.RETR_TREE,cv2.CHAIN_APPROX_SIMPLE)\n",
    "\n",
    "hull = []\n",
    "\n",
    "for i in range(len(contours)):\n",
    "    hull.append(cv2.convexHull(contours[i],False))\n",
    "    \n",
    "\n",
    "bg = np.zeros((thres.shape[0],thres.shape[1],3),np.uint8)\n",
    "\n",
    "for i in range(len(contours)):\n",
    "    cv2.drawContours(bg,contours,i,(0,255,0),3,8,hierarchy)\n",
    "    cv2.drawContours(bg,hull,i,(0,0,255),1,8)\n",
    "    \n",
    "    "
   ]
  },
  {
   "cell_type": "code",
   "execution_count": 21,
   "id": "4b0648df",
   "metadata": {},
   "outputs": [],
   "source": [
    "#cv2.imshow(\"org\",img)\n",
    "#cv2.imshow(\"gray\",gray)\n",
    "#cv2.imshow(\"blur\",blur)\n",
    "#cv2.imshow(\"thres\",thres)\n",
    "cv2.imshow(\"image\",bg)\n",
    "cv2.waitKey(0)\n",
    "cv2.destroyAllWindows()"
   ]
  },
  {
   "cell_type": "code",
   "execution_count": null,
   "id": "6f0b44df",
   "metadata": {},
   "outputs": [],
   "source": []
  }
 ],
 "metadata": {
  "kernelspec": {
   "display_name": "Python 3 (ipykernel)",
   "language": "python",
   "name": "python3"
  },
  "language_info": {
   "codemirror_mode": {
    "name": "ipython",
    "version": 3
   },
   "file_extension": ".py",
   "mimetype": "text/x-python",
   "name": "python",
   "nbconvert_exporter": "python",
   "pygments_lexer": "ipython3",
   "version": "3.9.18"
  }
 },
 "nbformat": 4,
 "nbformat_minor": 5
}
